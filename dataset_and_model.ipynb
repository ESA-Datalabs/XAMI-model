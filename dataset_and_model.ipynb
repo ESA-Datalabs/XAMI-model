{
 "cells": [
  {
   "cell_type": "markdown",
   "metadata": {},
   "source": [
    "# Setup"
   ]
  },
  {
   "cell_type": "markdown",
   "metadata": {},
   "source": [
    "[![Open In Colab](https://colab.research.google.com/assets/colab-badge.svg)](https://colab.research.google.com/github/ESA-Datalabs/XAMI-model/blob/main/dataset_and_model.ipynb)"
   ]
  },
  {
   "cell_type": "code",
   "execution_count": 17,
   "metadata": {
    "colab": {
     "base_uri": "https://localhost:8080/"
    },
    "id": "6MfC5nMEkhUa",
    "outputId": "cbbc24d4-ae20-4385-9a2a-8f38ba0d1b11"
   },
   "outputs": [],
   "source": [
    "import sys\n",
    "import os\n",
    "\n",
    "if 'google.colab' in sys.modules:\n",
    "    !pip install -q condacolab\n",
    "    import condacolab\n",
    "    condacolab.install()"
   ]
  },
  {
   "cell_type": "code",
   "execution_count": null,
   "metadata": {
    "colab": {
     "base_uri": "https://localhost:8080/"
    },
    "id": "SZktHME-kuIY",
    "outputId": "ced95049-66f1-48da-db19-ebbcd551684c"
   },
   "outputs": [
    {
     "name": "stdout",
     "output_type": "stream",
     "text": [
      "fatal: destination path 'XAMI-model' already exists and is not an empty directory.\n",
      "Collecting package metadata (repodata.json): - WARNING conda.models.version:get_matcher(537): Using .* with relational operator is superfluous and deprecated and will be removed in a future version of conda. Your spec was 1.8.0.*, but conda is ignoring the .* and treating it as 1.8.0\n",
      "WARNING conda.models.version:get_matcher(537): Using .* with relational operator is superfluous and deprecated and will be removed in a future version of conda. Your spec was 1.7.1.*, but conda is ignoring the .* and treating it as 1.7.1\n",
      "WARNING conda.models.version:get_matcher(537): Using .* with relational operator is superfluous and deprecated and will be removed in a future version of conda. Your spec was 1.9.0.*, but conda is ignoring the .* and treating it as 1.9.0\n",
      "WARNING conda.models.version:get_matcher(537): Using .* with relational operator is superfluous and deprecated and will be removed in a future version of conda. Your spec was 1.6.0.*, but conda is ignoring the .* and treating it as 1.6.0\n",
      "done\n",
      "Solving environment: / "
     ]
    }
   ],
   "source": [
    "# skip this step if the package already exists\n",
    "!git clone https://github.com/ESA-Datalabs/XAMI-model.git\n",
    "os.chdir(\"XAMI-model\")\n",
    "!conda env update -n base -f environment.yaml\n",
    "!pip install -e ."
   ]
  },
  {
   "cell_type": "markdown",
   "metadata": {},
   "source": [
    "## Download dataset"
   ]
  },
  {
   "cell_type": "code",
   "execution_count": null,
   "metadata": {
    "id": "ThBe7tOa_D-1"
   },
   "outputs": [],
   "source": [
    "!git clone https://github.com/ESA-Datalabs/XAMI-dataset.git\n",
    "!pip install -e XAMI-dataset/"
   ]
  },
  {
   "cell_type": "code",
   "execution_count": null,
   "metadata": {},
   "outputs": [],
   "source": [
    "# in colab, there is an issue with recognizing these packages \n",
    "if 'google.colab' in sys.modules: \n",
    "  sys.path.append(os.getcwd())\n",
    "  sys.path.append(os.path.join(os.getcwd(), 'XAMI-dataset'))"
   ]
  },
  {
   "cell_type": "code",
   "execution_count": null,
   "metadata": {
    "colab": {
     "base_uri": "https://localhost:8080/",
     "height": 193,
     "referenced_widgets": [
      "a20c0c1da8c146549d519118ce184559",
      "a6aaab6918ab4889ad2ebc14635ac0c1",
      "11e968e2c2874eb185b9e5e567e2cfdb",
      "c46c11990173470ab6882995823f23b0",
      "4610695017ee42e581ec857a74635953",
      "4d6c2afd6a134d4faa4665eb68572d57",
      "ede2bb577b3b49879eb7d63a247faac5",
      "b0665a869f0443eeb1c58f21cb094405",
      "34a70984f1b34a359c98c31ceac7fd07",
      "a6895b74fa4d42bfbb42b9ebaf5b7e32",
      "466462ad232840679380999a08736eca"
     ]
    },
    "id": "AGN65cHH_Am8",
    "outputId": "43e055a6-f886-4606-c78f-31cd88551e75"
   },
   "outputs": [],
   "source": [
    "from xami_dataset.loader import XAMIDataset\n",
    "\n",
    "# Download the dataset\n",
    "xami_dataset = XAMIDataset(\n",
    "    repo_id=\"iulia-elisa/XAMI-dataset\",\n",
    "    dataset_name=\"xami_dataset\", # this is the COCO format of the dataset (can use 'xami_dataset_yolov8' for the yolov8 format)\n",
    "    dest_dir='./data')"
   ]
  },
  {
   "cell_type": "markdown",
   "metadata": {},
   "source": [
    "## Download model weights"
   ]
  },
  {
   "cell_type": "code",
   "execution_count": null,
   "metadata": {
    "colab": {
     "base_uri": "https://localhost:8080/",
     "height": 34,
     "referenced_widgets": [
      "c4d37397b84b4b6bbdeeaf4971609bd9",
      "64e249bfa3fa4fdcaae84de6f31c8146",
      "ed2a745a776e4af09e8148d21f1a1826",
      "0bcd443fdd8546a8ab4185453f779d49",
      "fc4efffd528847e5b93851709a86cc14",
      "e7a0d29449444134b95f1acbc1e5535b",
      "36fc6696961c4f07911c9bacab6c7dab",
      "91ac0af6ac4544f58aca6bc10084796c",
      "90f3b9b6270b4030ab1efd7e99ccbc71",
      "6f914e9041874443a8e9786243056bf4",
      "9114b9fabeb049b9bfbf12ed81452e22",
      "e70558182c2341548bfc59a8ff95b272",
      "14d01e2ae15148eba4ca400dfafbee0f",
      "6b8247b5300e4c8fb2747bab098eb174",
      "083a0273c2c1462e9c011e962090e03f",
      "31b80aedc9bc49108378071e68da8b7c",
      "a23751b29b0044a49706c4734deeb43f",
      "295c14a6a1f0411193cffb1feb627160",
      "370bbfdd4ab14d3ab4499bf974fcea26",
      "0989d38d66db48a79557018264e520be",
      "124e4ef786d64b07b71d03efec327827",
      "7fc9a5a9b0f7408b804ebba025cc56c6",
      "1373f70385474c0791e3bdf6e0d56c77",
      "882364a5cf41461294cc5d5ef3e1801f",
      "4b7d8f6f8aef40218a4c14cec0643fbe",
      "e3eb63940fea439ca278ffaab8877652",
      "10f42fad439d4476a058da329d18065f",
      "083ce9da08974ef083db460a8b6676dd",
      "dfa31f6df4cf406c9d7585764b67bca8",
      "3e9a71798ea34e1796575ae79637803a",
      "1863587a7bad4e1c91c8777ffb061158",
      "79aae3a1ce4d4a9ca789d39c08bfaa9e",
      "7425989f119e425e95a650a821810c65"
     ]
    },
    "id": "btLdQ8eL_kLC",
    "outputId": "623d0e0b-4af2-477d-a5a0-c633cbfc6225",
    "scrolled": true
   },
   "outputs": [],
   "source": [
    "from huggingface_hub import hf_hub_download\n",
    "\n",
    "dest_dir = './xami_model/train/weights/'\n",
    "\n",
    "# the RT-DETR backbone performs better than YOLO (except on 'Other' class)\n",
    "# YOLOv8n is faster and has a good speed-accuracy trade-off, with usually -10ms on inference compared to RT-DETR\n",
    "\n",
    "det_type = 'yolov8' # 'yolov8' or 'rtdetr'\n",
    "\n",
    "checkpoints = [\n",
    "        f'{det_type}_sam_weights/{det_type}_detect_300e_best.pt', \n",
    "        f'{det_type}_sam_weights/{det_type}_detect_300e_last.pt', # this can help sometimes\n",
    "        f'{det_type}_sam_weights/{det_type}_sam.pth']\n",
    "\n",
    "# download checkpoints from HuggingFace\n",
    "for checkpoint in checkpoints:\n",
    "    hf_hub_download(\n",
    "    \t\t\trepo_id=\"iulia-elisa/XAMI-model\",\n",
    "    \t\t\trepo_type='model',\n",
    "    \t\t\tfilename=checkpoint,\n",
    "    \t\t\tlocal_dir=dest_dir\n",
    "    \t\t)\n",
    "print(f'Checkpoints saved in {dest_dir}')"
   ]
  },
  {
   "cell_type": "markdown",
   "metadata": {},
   "source": [
    "# Inference"
   ]
  },
  {
   "cell_type": "code",
   "execution_count": null,
   "metadata": {
    "colab": {
     "base_uri": "https://localhost:8080/"
    },
    "id": "mBgIKSOC96Yn",
    "outputId": "8c30dbf5-0753-4b7c-ed9f-621084ab5d92",
    "scrolled": true
   },
   "outputs": [],
   "source": [
    "from xami_model.inference.xami_inference import InferXami\n",
    "\n",
    "det_type = 'yolov8' # 'rtdetr' or 'yolov8' variants\n",
    "detr_checkpoint = f'./xami_model/train/weights/{det_type}_sam_weights/{det_type}_detect_300e_best.pt'\n",
    "sam_checkpoint = f'./xami_model/train/weights/{det_type}_sam_weights/{det_type}_sam.pth'\n",
    "\n",
    "#❗️the SAM checkpoint and model_type (vit_h, vit_t, etc.) must be compatible\n",
    "#❗️the detr_type and its checkpoints must be compatible\n",
    "detr_sam_pipeline = InferXami(\n",
    "    device='cuda:0',\n",
    "    detr_checkpoint=detr_checkpoint,\n",
    "    sam_checkpoint=sam_checkpoint,\n",
    "    model_type='vit_t',\n",
    "    use_detr_masks=True,\n",
    "    detr_type=det_type) "
   ]
  },
  {
   "cell_type": "code",
   "execution_count": null,
   "metadata": {
    "colab": {
     "base_uri": "https://localhost:8080/",
     "height": 307
    },
    "id": "Btbdsbqc-wRu",
    "outputId": "228d0295-879a-4b37-c2bf-b6958794bc01",
    "scrolled": true
   },
   "outputs": [],
   "source": [
    "# masks = detr_sam_pipeline.run_predict('./example_images/S0893811101_M.png', show_masks=True)\n",
    "masks = detr_sam_pipeline.run_predict('./example_images/S0743200101_V.jpg', show_masks=True)"
   ]
  },
  {
   "cell_type": "code",
   "execution_count": null,
   "metadata": {
    "scrolled": true
   },
   "outputs": [],
   "source": [
    "masks = detr_sam_pipeline.run_predict('./example_images/euclid_artefacts.png', show_masks=True, det_conf=0.2)"
   ]
  }
 ],
 "metadata": {
  "accelerator": "GPU",
  "colab": {
   "gpuType": "T4",
   "provenance": []
  },
  "kernelspec": {
   "display_name": "xami_model_kernel_2",
   "language": "python",
   "name": "xami_model_env_2"
  },
  "language_info": {
   "codemirror_mode": {
    "name": "ipython",
    "version": 3
   },
   "file_extension": ".py",
   "mimetype": "text/x-python",
   "name": "python",
   "nbconvert_exporter": "python",
   "pygments_lexer": "ipython3",
   "version": "3.12.3"
  },
  "widgets": {
   "application/vnd.jupyter.widget-state+json": {
    "state": {},
    "version_major": 2,
    "version_minor": 0
   }
  }
 },
 "nbformat": 4,
 "nbformat_minor": 4
}
