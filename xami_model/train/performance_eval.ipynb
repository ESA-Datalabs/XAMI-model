{
 "cells": [
  {
   "cell_type": "markdown",
   "metadata": {},
   "source": [
    "# Setup"
   ]
  },
  {
   "cell_type": "code",
   "execution_count": 1,
   "metadata": {
    "editable": true,
    "id": "eotMLol5O5G0",
    "scrolled": true,
    "slideshow": {
     "slide_type": ""
    },
    "tags": []
   },
   "outputs": [],
   "source": [
    "from ultralytics import YOLO, RTDETR\n",
    "import torch\n",
    "import os\n",
    "import numpy as np\n",
    "import random\n",
    "\n",
    "# to help with reproducibility\n",
    "seed=0\n",
    "import torch.backends.cudnn as cudnn \n",
    "random.seed(seed) \n",
    "np.random.seed(seed) \n",
    "torch.manual_seed(seed) \n",
    "torch.cuda.manual_seed(seed)\n",
    "torch.cuda.manual_seed_all(seed)   \n",
    "cudnn.benchmark, cudnn.deterministic = False, True"
   ]
  },
  {
   "cell_type": "code",
   "execution_count": 2,
   "metadata": {
    "scrolled": true
   },
   "outputs": [],
   "source": [
    "device_id=0\n",
    "batch_size=8"
   ]
  },
  {
   "cell_type": "code",
   "execution_count": 3,
   "metadata": {},
   "outputs": [],
   "source": [
    "os.chdir(\"../../\")"
   ]
  },
  {
   "cell_type": "code",
   "execution_count": 4,
   "metadata": {
    "scrolled": true
   },
   "outputs": [],
   "source": [
    "yolo_dataset_path = './data/xami_dataset_yolov8/'"
   ]
  },
  {
   "cell_type": "code",
   "execution_count": 5,
   "metadata": {},
   "outputs": [
    {
     "name": "stdout",
     "output_type": "stream",
     "text": [
      "Clases: {0: 'central-ring', 1: 'other', 2: 'read-out-streak', 3: 'smoke-ring', 4: 'star-loop'}\n"
     ]
    }
   ],
   "source": [
    "import yaml\n",
    "\n",
    "with open(yolo_dataset_path+f\"data.yaml\", 'r') as stream:\n",
    "    yam_data = yaml.safe_load(stream) # dictionary with keys 'names', 'nc', 'train', 'val'\n",
    "\n",
    "classes = {i:name for i, name in enumerate(yam_data['names'])}\n",
    "train_path = yam_data['train']\n",
    "val_path = yam_data['val']\n",
    "print('Clases:', classes)\n",
    "    \n",
    "train_dir = yolo_dataset_path+f'train/images/'\n",
    "valid_dir = yolo_dataset_path+f'valid/images/'\n",
    "train_image_files = os.listdir(train_dir)\n",
    "valid_image_files = os.listdir(valid_dir)\n",
    "train_num_batches = len(train_image_files) // batch_size\n",
    "valid_num_batches = len(valid_image_files) // batch_size"
   ]
  },
  {
   "cell_type": "markdown",
   "metadata": {},
   "source": [
    "## Model setup"
   ]
  },
  {
   "cell_type": "code",
   "execution_count": 6,
   "metadata": {},
   "outputs": [
    {
     "data": {
      "text/plain": [
       "'/Users/iulia/Desktop/tempp/XAMI-model'"
      ]
     },
     "execution_count": 6,
     "metadata": {},
     "output_type": "execute_result"
    }
   ],
   "source": [
    "os.getcwd()"
   ]
  },
  {
   "cell_type": "code",
   "execution_count": 7,
   "metadata": {
    "editable": true,
    "scrolled": true,
    "slideshow": {
     "slide_type": ""
    },
    "tags": []
   },
   "outputs": [
    {
     "name": "stderr",
     "output_type": "stream",
     "text": [
      "UserWarning: Overwriting tiny_vit_5m_224 in registry with xami_model.mobile_sam.mobile_sam.modeling.tiny_vit_sam.tiny_vit_5m_224. This is because the name being registered conflicts with an existing name. Please check if this is not expected.\n",
      "UserWarning: Overwriting tiny_vit_11m_224 in registry with xami_model.mobile_sam.mobile_sam.modeling.tiny_vit_sam.tiny_vit_11m_224. This is because the name being registered conflicts with an existing name. Please check if this is not expected.\n",
      "UserWarning: Overwriting tiny_vit_21m_224 in registry with xami_model.mobile_sam.mobile_sam.modeling.tiny_vit_sam.tiny_vit_21m_224. This is because the name being registered conflicts with an existing name. Please check if this is not expected.\n",
      "UserWarning: Overwriting tiny_vit_21m_384 in registry with xami_model.mobile_sam.mobile_sam.modeling.tiny_vit_sam.tiny_vit_21m_384. This is because the name being registered conflicts with an existing name. Please check if this is not expected.\n",
      "UserWarning: Overwriting tiny_vit_21m_512 in registry with xami_model.mobile_sam.mobile_sam.modeling.tiny_vit_sam.tiny_vit_21m_512. This is because the name being registered conflicts with an existing name. Please check if this is not expected.\n"
     ]
    },
    {
     "name": "stdout",
     "output_type": "stream",
     "text": [
      "DEVICE: cpu\n"
     ]
    }
   ],
   "source": [
    "from xami_model.mobile_sam.mobile_sam import sam_model_registry, SamPredictor\n",
    "\n",
    "device = f\"cuda:{device_id}\" if torch.cuda.is_available() else \"cpu\"\n",
    "print(\"DEVICE:\", device)\n",
    "det_type = 'yolov8' # 'yolov8' or 'rtdetr'\n",
    "\n",
    "detr_checkpoint = f'./xami_model/train/weights/{det_type}_sam_weights/{det_type}_detect_300e_best.pt'\n",
    "sam_checkpoint = f'./xami_model/train/weights/{det_type}_sam_weights/{det_type}_sam.pth'\n",
    "\n",
    "if det_type == 'yolov8':\n",
    "    detector_pretrained_model = YOLO(detr_checkpoint); \n",
    "\n",
    "elif det_type == 'rtdetr':\n",
    "    detector_pretrained_model = RTDETR(detr_checkpoint); \n",
    "\n",
    "else:\n",
    "    print(\"Detection type must be 'yolov8' or 'rtdetr'\")\n",
    "    \n",
    "detector_pretrained_model.to(device);\n",
    "mobile_sam_model = sam_model_registry[\"vit_t\"](checkpoint=sam_checkpoint)\n",
    "mobile_sam_model.to(device)\n",
    "predictor = SamPredictor(mobile_sam_model)"
   ]
  },
  {
   "cell_type": "code",
   "execution_count": 9,
   "metadata": {},
   "outputs": [],
   "source": [
    "from xami_model.model_predictor import xami\n",
    "\n",
    "xami_model = xami.XAMI(\n",
    "    mobile_sam_model,\n",
    "    device,\n",
    "    predictor,\n",
    "    use_yolo_masks=True, # this works only for YOLO as detection model\n",
    "    wt_threshold=0.85,\n",
    "    wt_classes_ids = [1.0, 4.0])\n",
    "\n",
    "if det_type == 'rtdetr' and xami_model.use_yolo_masks==True:\n",
    "    print('The Real-Time Detection Transformer does not support mask generation yet.\\\n",
    "    \\nWe will set use_yolo_masks=False')\n",
    "    xami_model.use_yolo_masks = False\n",
    "\n",
    "for param in xami_model.model.parameters():\n",
    "    param.requires_grad = False"
   ]
  },
  {
   "cell_type": "markdown",
   "metadata": {},
   "source": [
    "# Performance evaluation\n",
    "\n",
    "This section provides some methods to evaluate the performance of the model."
   ]
  },
  {
   "cell_type": "code",
   "execution_count": null,
   "metadata": {
    "scrolled": true
   },
   "outputs": [],
   "source": [
    "xami_model.model.eval()\n",
    "\n",
    "with torch.no_grad():\n",
    "\n",
    "    # eval on training set\n",
    "    t_results = xami_model.run_yolo_sam_epoch(\n",
    "        detector_pretrained_model,\n",
    "        phase='evaluation',\n",
    "        batch_size=batch_size,\n",
    "        image_files=train_image_files,\n",
    "        images_dir=train_dir,\n",
    "        num_batches=train_num_batches,\n",
    "        optimizer=None)\n",
    "\n",
    "    # eval on validation set\n",
    "    v_results = xami_model.run_yolo_sam_epoch(\n",
    "        detector_pretrained_model,\n",
    "        phase='evaluation',\n",
    "        batch_size=batch_size,\n",
    "        image_files=valid_image_files,\n",
    "        images_dir=valid_dir,\n",
    "        num_batches=valid_num_batches,\n",
    "        optimizer=None)"
   ]
  },
  {
   "cell_type": "code",
   "execution_count": null,
   "metadata": {},
   "outputs": [
    {
     "data": {
      "text/plain": [
       "dict_keys(['preds', 'gts', 'gt_cls', 'pred_cls', 'iou_scores', 'pred_images', 'all_preds', 'all_gts', 'all_gt_cls', 'all_pred_cls', 'all_iou_scores'])"
      ]
     },
     "execution_count": 8,
     "metadata": {},
     "output_type": "execute_result"
    }
   ],
   "source": [
    "v_results.keys()"
   ]
  },
  {
   "cell_type": "code",
   "execution_count": null,
   "metadata": {},
   "outputs": [],
   "source": [
    "del t_results['pred_images']"
   ]
  },
  {
   "cell_type": "markdown",
   "metadata": {},
   "source": [
    "## Mask IoU metrics"
   ]
  },
  {
   "cell_type": "markdown",
   "metadata": {},
   "source": [
    "**annotations IoU**"
   ]
  },
  {
   "cell_type": "code",
   "execution_count": null,
   "metadata": {
    "scrolled": true
   },
   "outputs": [
    {
     "data": {
      "image/png": "[encoded data removed]",
      "text/plain": [
       "<Figure size 1000x500 with 2 Axes>"
      ]
     },
     "metadata": {},
     "output_type": "display_data"
    }
   ],
   "source": [
    "from xami_model.losses import metrics_utils\n",
    "\n",
    "v_ious = metrics_utils.ann_ious(v_results, 'Validation')\n",
    "t_ious = metrics_utils.ann_ious(t_results, 'Train')\n",
    "\n",
    "metrics_utils.plot_ious(t_ious, v_ious, box_anchor=(0.63, 0.27), save=True, save_path='./ious.pdf')"
   ]
  },
  {
   "cell_type": "markdown",
   "metadata": {},
   "source": [
    "**IoUs per images**"
   ]
  },
  {
   "cell_type": "code",
   "execution_count": null,
   "metadata": {},
   "outputs": [],
   "source": [
    "img_ious = []\n",
    "\n",
    "for img_preds, img_gts in zip(v_results['all_gts'], v_results['all_preds']):\n",
    "    _, _, _, img_iou = metrics_utils.compute_metrics_with_range(img_preds, img_gts)\n",
    "    img_ious.append(img_iou)\n",
    "print('Images (Validation)\\nMean', np.mean(img_ious), 'Std:', np.std(img_ious), \\\n",
    "     '\\nMedian:', np.median(img_ious))"
   ]
  },
  {
   "cell_type": "markdown",
   "metadata": {},
   "source": [
    "## Metrics per class"
   ]
  },
  {
   "cell_type": "code",
   "execution_count": null,
   "metadata": {
    "scrolled": true
   },
   "outputs": [
    {
     "data": {
      "text/html": [
       "<div>\n",
       "<style scoped>\n",
       "    .dataframe tbody tr th:only-of-type {\n",
       "        vertical-align: middle;\n",
       "    }\n",
       "\n",
       "    .dataframe tbody tr th {\n",
       "        vertical-align: top;\n",
       "    }\n",
       "\n",
       "    .dataframe thead th {\n",
       "        text-align: right;\n",
       "    }\n",
       "</style>\n",
       "<table border=\"1\" class=\"dataframe\">\n",
       "  <thead>\n",
       "    <tr style=\"text-align: right;\">\n",
       "      <th></th>\n",
       "      <th>Class</th>\n",
       "      <th>Prec</th>\n",
       "      <th>Recall</th>\n",
       "      <th>FP</th>\n",
       "      <th>FN</th>\n",
       "      <th>IoU_TP</th>\n",
       "    </tr>\n",
       "  </thead>\n",
       "  <tbody>\n",
       "    <tr>\n",
       "      <th>0</th>\n",
       "      <td>0.0</td>\n",
       "      <td>0.89</td>\n",
       "      <td>0.94</td>\n",
       "      <td>0.10</td>\n",
       "      <td>0.05</td>\n",
       "      <td>0.88</td>\n",
       "    </tr>\n",
       "    <tr>\n",
       "      <th>1</th>\n",
       "      <td>1.0</td>\n",
       "      <td>1.00</td>\n",
       "      <td>0.33</td>\n",
       "      <td>0.00</td>\n",
       "      <td>0.67</td>\n",
       "      <td>0.57</td>\n",
       "    </tr>\n",
       "    <tr>\n",
       "      <th>2</th>\n",
       "      <td>2.0</td>\n",
       "      <td>0.71</td>\n",
       "      <td>0.73</td>\n",
       "      <td>0.23</td>\n",
       "      <td>0.21</td>\n",
       "      <td>0.76</td>\n",
       "    </tr>\n",
       "    <tr>\n",
       "      <th>3</th>\n",
       "      <td>3.0</td>\n",
       "      <td>0.81</td>\n",
       "      <td>0.86</td>\n",
       "      <td>0.17</td>\n",
       "      <td>0.12</td>\n",
       "      <td>0.82</td>\n",
       "    </tr>\n",
       "    <tr>\n",
       "      <th>4</th>\n",
       "      <td>4.0</td>\n",
       "      <td>0.80</td>\n",
       "      <td>0.74</td>\n",
       "      <td>0.15</td>\n",
       "      <td>0.22</td>\n",
       "      <td>0.80</td>\n",
       "    </tr>\n",
       "  </tbody>\n",
       "</table>\n",
       "</div>"
      ],
      "text/plain": [
       "   Class  Prec  Recall    FP    FN  IoU_TP\n",
       "0    0.0  0.89    0.94  0.10  0.05    0.88\n",
       "1    1.0  1.00    0.33  0.00  0.67    0.57\n",
       "2    2.0  0.71    0.73  0.23  0.21    0.76\n",
       "3    3.0  0.81    0.86  0.17  0.12    0.82\n",
       "4    4.0  0.80    0.74  0.15  0.22    0.80"
      ]
     },
     "execution_count": 11,
     "metadata": {},
     "output_type": "execute_result"
    }
   ],
   "source": [
    "import pandas as pd\n",
    "\n",
    "data=[]\n",
    "\n",
    "overall_tp_ious, overall_fp_ious, overall_fn_ious, class_metrics, cls_det = metrics_utils.iou_cls_tp_fp_fn(\n",
    "    v_results['all_preds'],\n",
    "    v_results['all_gts'],\n",
    "    v_results['all_pred_cls'],\n",
    "    v_results['all_gt_cls'],\n",
    "    iou_threshold=0.2) # minimum IoU to consider TPs\n",
    "\n",
    "for cls, metrics in class_metrics.items():\n",
    "    tp_count = len(metrics['tp_ious'])\n",
    "    fp_count = len(metrics['fp_ious'])\n",
    "    fn_count = len(metrics['fn_ious'])\n",
    "    \n",
    "    recall_det = np.round(tp_count / (tp_count + fn_count), 2) if (tp_count + fn_count) > 0 else 0.0\n",
    "    precision_det = np.round(tp_count / (tp_count + fp_count), 2) if (tp_count + fp_count) > 0 else 0.0\n",
    "    perc_fp = np.round(fp_count / (tp_count + fp_count + fn_count), 2) if (tp_count + fp_count + fn_count) > 0 else 0.0\n",
    "    perc_fn = np.round(fn_count / (tp_count + fp_count + fn_count), 2) if (tp_count + fp_count + fn_count) > 0 else 0.0\n",
    "    iou_tp = np.round(np.mean(metrics['tp_ious']), 2)\n",
    "    data.append([cls, precision_det, recall_det, perc_fp, perc_fn, iou_tp])\n",
    "\n",
    "df = pd.DataFrame(data, columns=['Class', 'Precision', 'Recall', 'FP', 'FN', 'IoU_TP'])\n",
    "df"
   ]
  },
  {
   "cell_type": "code",
   "execution_count": null,
   "metadata": {},
   "outputs": [
    {
     "data": {
      "text/plain": [
       "(0.84, 0.72, 0.13, 0.25, 0.77)"
      ]
     },
     "execution_count": 12,
     "metadata": {},
     "output_type": "execute_result"
    }
   ],
   "source": [
    "np.round(np.mean(df['Prec']), 2), np.round(np.mean(df['Recall']), 2), np.round(np.mean(df['FP']), 2), \\\n",
    "np.round(np.mean(df['FN']), 2), np.round(np.mean(df['IoU_TP']), 2)"
   ]
  },
  {
   "cell_type": "code",
   "execution_count": null,
   "metadata": {},
   "outputs": [],
   "source": [
    "import tqdm\n",
    "from tqdm import tqdm\n",
    "from torchmetrics.detection.mean_ap import MeanAveragePrecision\n",
    "from collections import defaultdict\n",
    "\n",
    "metric_thresholds = [[0.5], [0.75], [0.5, 0.9]]\n",
    "all_mAP_metrics = defaultdict(dict)\n",
    "\n",
    "for threshold in tqdm(metric_thresholds, desc=\"(Metrics) Processing thresholds\", bar_format='{l_bar}{bar:10}{r_bar}{bar:-10b}'):\n",
    "    metric = MeanAveragePrecision(\n",
    "        iou_type=\"segm\",\n",
    "        iou_thresholds=threshold,\n",
    "        max_detection_thresholds=None,\n",
    "        class_metrics=True,\n",
    "        extended_summary=False\n",
    "    )\n",
    "\n",
    "    t_metrics = metrics_utils.mAP_metrics(\n",
    "        metric,\n",
    "        t_results['all_preds'],\n",
    "        t_results['all_gts'],\n",
    "        t_results['all_gt_cls'],\n",
    "        t_results['all_pred_cls'],\n",
    "        t_results['all_iou_scores'],\n",
    "        show_metrics=False\n",
    "    )\n",
    "    v_metrics = metrics_utils.mAP_metrics(\n",
    "        metric,\n",
    "        v_results['all_preds'],\n",
    "        v_results['all_gts'],\n",
    "        v_results['all_gt_cls'],\n",
    "        v_results['all_pred_cls'],\n",
    "        v_results['all_iou_scores'],\n",
    "        show_metrics=False\n",
    "    )"
   ]
  },
  {
   "cell_type": "markdown",
   "metadata": {},
   "source": [
    "## IoU plots "
   ]
  },
  {
   "cell_type": "code",
   "execution_count": null,
   "metadata": {
    "scrolled": true
   },
   "outputs": [],
   "source": [
    "import random\n",
    "import numpy as np\n",
    "import matplotlib.pyplot as plt\n",
    "import matplotlib.patches as mpatches\n",
    "import cv2\n",
    "\n",
    "num_samples = 16\n",
    "random_indices = random.sample(range(len(v_results['pred_images'])), num_samples)\n",
    "images = [v_results['pred_images'][i] for i in random_indices]\n",
    "selected_preds = [v_results['all_preds'][i] for i in random_indices]\n",
    "\n",
    "fig, axes = plt.subplots(4, 4, figsize=(36, 36))\n",
    "\n",
    "for j, (image_name, pred_mask) in enumerate(zip(images, selected_preds)):\n",
    "    row, col = divmod(j, 4)\n",
    "    gt_masks = v_results['all_gts'][random_indices[j]]\n",
    "\n",
    "    image = cv2.imread(valid_dir + image_name)\n",
    "    image = cv2.cvtColor(image, cv2.COLOR_BGR2RGB)\n",
    "\n",
    "    ax_simple = axes[row, col]\n",
    "    ax_simple.imshow(255-image)\n",
    "    ax_simple.set_xticks([])\n",
    "    ax_simple.set_yticks([])\n",
    "    ax_simple.set_title(f'{image_name[:13]} ({j+1})', fontsize=34, pad=10)\n",
    "\n",
    "    tp_color = np.array([0, 255, 0, 102]) / 255  \n",
    "    fp_color = np.array([255, 0, 0, 102]) / 255  \n",
    "    fn_color = np.array([0, 0, 255, 102]) / 255  \n",
    "\n",
    "    true_positive_mask, false_positive_mask, false_negative_mask, iou = metrics_utils.compute_metrics_with_range(gt_masks, pred_mask, image)\n",
    "    h, w = true_positive_mask.shape[-2:]\n",
    "    true_positive_mask = true_positive_mask.reshape(h, w, 1) * tp_color.reshape(1, 1, -1)\n",
    "    false_positive_mask = false_positive_mask.reshape(h, w, 1) * fp_color.reshape(1, 1, -1)\n",
    "    false_negative_mask = false_negative_mask.reshape(h, w, 1) * fn_color.reshape(1, 1, -1)\n",
    "\n",
    "    ax_simple.imshow(false_positive_mask)\n",
    "    ax_simple.imshow(false_negative_mask)\n",
    "    ax_simple.imshow(true_positive_mask)\n",
    "\n",
    "    ax_simple.text(300, 480, f'IoU ~ {iou:.2f}', fontsize=33, color='black')\n",
    "\n",
    "tp_patch = mpatches.Patch(color=tp_color, label='True Positive', alpha=0.5)\n",
    "fp_patch = mpatches.Patch(color=fp_color, label='False Positive', alpha=0.5)\n",
    "fn_patch = mpatches.Patch(color=fn_color, label='False Negative', alpha=0.5)\n",
    "\n",
    "fig.legend(handles=[tp_patch, fp_patch, fn_patch], loc='lower center', bbox_to_anchor=(0.5, -0.0003), ncol=3, fontsize=33)\n",
    "plt.tight_layout(pad=0.1)\n",
    "plt.subplots_adjust(left=0.1, right=0.9, top=0.99, bottom=0.05, hspace=0.08, wspace=0.05)\n",
    "# plt.savefig('tp_fp_fn_ious.pdf', dpi=600)\n",
    "plt.show()"
   ]
  },
  {
   "cell_type": "code",
   "execution_count": 14,
   "metadata": {},
   "outputs": [],
   "source": [
    "# original images"
   ]
  },
  {
   "cell_type": "code",
   "execution_count": null,
   "metadata": {
    "scrolled": true
   },
   "outputs": [],
   "source": [
    "fig, axes = plt.subplots(4, 4, figsize=(36, 36))\n",
    "\n",
    "for j, (image_name, pred_mask) in enumerate(zip(images, selected_preds)):\n",
    "    row, col = divmod(j, 4)\n",
    "    gt_masks = v_results['all_gts'][random_indices[j]]\n",
    "\n",
    "    image = cv2.imread(valid_dir + image_name)\n",
    "    image = cv2.cvtColor(image, cv2.COLOR_BGR2RGB)\n",
    "\n",
    "    ax_simple = axes[row, col]\n",
    "    ax_simple.imshow(255-image)\n",
    "    ax_simple.set_xticks([])\n",
    "    ax_simple.set_yticks([])\n",
    "    ax_simple.set_title(f'{image_name[:13]} ({j+1})', fontsize=34, pad=10)\n",
    "\n",
    "plt.tight_layout(pad=0.1)\n",
    "plt.subplots_adjust(left=0.1, right=0.9, top=0.99, bottom=0.05, hspace=0.08, wspace=0.05)\n",
    "plt.show()"
   ]
  }
 ],
 "metadata": {
  "accelerator": "GPU",
  "colab": {
   "gpuType": "T4",
   "provenance": []
  },
  "kernelspec": {
   "display_name": "xami_model_env",
   "language": "python",
   "name": "python3"
  },
  "language_info": {
   "codemirror_mode": {
    "name": "ipython",
    "version": 3
   },
   "file_extension": ".py",
   "mimetype": "text/x-python",
   "name": "python",
   "nbconvert_exporter": "python",
   "pygments_lexer": "ipython3",
   "version": "3.12.5"
  },
  "widgets": {
   "application/vnd.jupyter.widget-state+json": {
    "state": {},
    "version_major": 2,
    "version_minor": 0
   }
  }
 },
 "nbformat": 4,
 "nbformat_minor": 4
}
